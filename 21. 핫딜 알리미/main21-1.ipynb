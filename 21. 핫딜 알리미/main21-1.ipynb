{
 "cells": [
  {
   "cell_type": "code",
   "execution_count": 3,
   "metadata": {},
   "outputs": [
    {
     "name": "stderr",
     "output_type": "stream",
     "text": [
      "C:\\Users\\user\\AppData\\Local\\Temp\\ipykernel_10960\\1188988689.py:5: DeprecationWarning: executable_path has been deprecated, please pass in a Service object\n",
      "  driver = webdriver.Chrome(ChromeDriverManager().install())\n"
     ]
    }
   ],
   "source": [
    "from webdriver_manager.chrome import ChromeDriverManager\n",
    "from selenium import webdriver\n",
    "from selenium.webdriver.common.by import By\n",
    "\n",
    "driver = webdriver.Chrome(ChromeDriverManager().install())\n",
    "\n",
    "driver.get(url=\"https://www.ppomppu.co.kr/zboard/zboard.php?id=ppomppu\")\n",
    "driver.implicitly_wait(time_to_wait=10)\n"
   ]
  },
  {
   "cell_type": "code",
   "execution_count": 4,
   "metadata": {},
   "outputs": [
    {
     "name": "stdout",
     "output_type": "stream",
     "text": [
      "[G마켓]비비고 썰은배추김치 1.8kg(12,450/무료)\n",
      "https://www.ppomppu.co.kr/zboard/view.php?id=ppomppu&page=1&divpage=75&no=442598\n",
      "[큐텐] 커피콩빵 100개입 (13,900원 / 무료)\n",
      "https://www.ppomppu.co.kr/zboard/view.php?id=ppomppu&page=1&divpage=75&no=442597\n",
      "[지마켓]비비고 소고기죽 420g x12입 (16,420원/무배)\n",
      "https://www.ppomppu.co.kr/zboard/view.php?id=ppomppu&page=1&divpage=75&no=442596\n",
      "[티몬] 핫팩 (100원/2,500원)\n",
      "https://www.ppomppu.co.kr/zboard/view.php?id=ppomppu&page=1&divpage=75&no=442595\n",
      "[11마존] 샹치 피규어 장난감 (5,070/우주패스무료)\n",
      "https://www.ppomppu.co.kr/zboard/view.php?id=ppomppu&page=1&divpage=75&no=442594\n",
      "[하우스앱] 예꼬맘 키즈 치실 80개입(지퍼팩) 4세트+40개입(하드케이스) 2세트(9,900원/무배)\n",
      "https://www.ppomppu.co.kr/zboard/view.php?id=ppomppu&page=1&divpage=75&no=442593\n",
      "[네이버스토어] 롯데칠성 펩시제로슈거 라임향 210ml 캔 6입 (2280원/무료배송)\n",
      "https://www.ppomppu.co.kr/zboard/view.php?id=ppomppu&page=1&divpage=75&no=442592\n",
      "[티몬] 온라인 문화상품권 5만원권 (46,050/무료)\n",
      "https://www.ppomppu.co.kr/zboard/view.php?id=ppomppu&page=1&divpage=75&no=442591\n",
      "[카카오쇼핑] 백산수 무라벨 2L 12병 (9900/무료)\n",
      "https://www.ppomppu.co.kr/zboard/view.php?id=ppomppu&page=1&divpage=75&no=442590\n",
      "[11마존] 마샬 엠버튼 블루투스 스피커 (178,500원/우주패스 무료)\n",
      "https://www.ppomppu.co.kr/zboard/view.php?id=ppomppu&page=1&divpage=75&no=442589\n",
      "[11번가 아마존] 마샬 엠버튼 블루투스 스피커 (128,210원/무료)\n",
      "https://www.ppomppu.co.kr/zboard/view.php?id=ppomppu&page=1&divpage=75&no=442588\n",
      "[11마존] SanDisk Extreme PRO 휴대용 SSD 1TB (178,500원 / 9,320원)\n",
      "https://www.ppomppu.co.kr/zboard/view.php?id=ppomppu&page=1&divpage=75&no=442587\n",
      "[네이버] GS25 찬또배기 된장술밥 (3290원/무료)\n",
      "https://www.ppomppu.co.kr/zboard/view.php?id=ppomppu&page=1&divpage=75&no=442586\n",
      "[네이버]메가프로틴 초코 12팩 1박스(6,900원/무료)\n",
      "https://www.ppomppu.co.kr/zboard/view.php?id=ppomppu&page=1&divpage=75&no=442585\n",
      "[11번가/아마존] 커세어 벤전스 RGB pro SL 32G (16GB*2) DDR4 3600 CL18 (157,780/9250)\n",
      "https://www.ppomppu.co.kr/zboard/view.php?id=ppomppu&page=1&divpage=75&no=442582\n",
      "[VOGO] 헤드스파7 트리트먼트 300ml*2 (19,900/무료)\n",
      "https://www.ppomppu.co.kr/zboard/view.php?id=ppomppu&page=1&divpage=75&no=442581\n",
      "[원쁠딜] 석하 천연한스푼 맛능한알육수 50알+50알 (18,900원/무료)\n",
      "https://www.ppomppu.co.kr/zboard/view.php?id=ppomppu&page=1&divpage=75&no=442579\n",
      "[G마켓] 얼티메이트 컨트롤러 2.4g 버전(39,900원/무료배송)\n",
      "https://www.ppomppu.co.kr/zboard/view.php?id=ppomppu&page=1&divpage=75&no=442578\n",
      "[11마존] 스텐리 어드벤처 캠프 조리 세트 24oz 주전자 포함 (14,990원/우주패스무료)\n",
      "https://www.ppomppu.co.kr/zboard/view.php?id=ppomppu&page=1&divpage=75&no=442577\n",
      "[지마켓] 캡슐 세탁조 클리너 12개입 본품 1팩증정 (9,900/무배)\n",
      "https://www.ppomppu.co.kr/zboard/view.php?id=ppomppu&page=1&divpage=75&no=442576\n",
      "[네이버] 태영한우 1++ 투쁠 한우 모듬 600g 59,800원 , 1++업진살 100g당 9633원 대한민국 최저가 도전 초특가 50% 한정수량 72개 진행중! (14시 이전 주문 ...\n",
      "https://www.ppomppu.co.kr/zboard/view.php?id=pmarket&&no=281226\n",
      "[네이버] 무농약 인증! 해남 꿀고구마 한입 3kg 7,900원/무료배송\n",
      "https://www.ppomppu.co.kr/zboard/view.php?id=pmarket&&no=281222\n",
      "[롯데온] 행사카드 10% 즉시할인, 선택 12%/중복 5% 할인쿠폰 삼성 올인원 일체형PC\n",
      "https://www.ppomppu.co.kr/zboard/view.php?id=pmarket&&no=281245\n",
      "아모레퍼시픽 일리윤 베스트 상품 로션 크림 워시 모음전 4만원 이상 구매 시 전고객 캠핑폴딩박스 증정 - 최신제조 환절기맞이 일리윤 행사 (13,680원)\n",
      "https://www.ppomppu.co.kr/hotdeal/?no=22281292\n",
      "[cgv] 올빼미 2D 전용관람권 1매 (7100원/무료)\n",
      "https://www.ppomppu.co.kr/zboard/view.php?id=social&no=35407\n",
      "요기요 금액권 라방 10% 할인 합니다 (저녁 7시)\n",
      "https://www.ppomppu.co.kr/zboard/view.php?id=social&no=35406\n",
      "[티몬] 피자마루 사이드메뉴 100원(고추마요텐더, 딥치즈나초)\n",
      "https://www.ppomppu.co.kr/zboard/view.php?id=social&no=35404\n"
     ]
    }
   ],
   "source": [
    "titles=driver.find_elements(By.CSS_SELECTOR,\"#revolution_main_table > tbody > tr > td:nth-child(3) > table > tbody > tr > td:nth-child(2) > div > a > font\")\n",
    "\n",
    "urls = driver.find_elements(By.CSS_SELECTOR,\"#revolution_main_table > tbody > tr > td:nth-child(3) > table > tbody > tr > td:nth-child(2) > div > a\")\n",
    "\n",
    "for i in range(len(titles)):\n",
    "    print(titles[i].text)\n",
    "    print(urls[i].get_attribute(\"href\"))\n",
    "    "
   ]
  },
  {
   "cell_type": "code",
   "execution_count": 5,
   "metadata": {},
   "outputs": [
    {
     "name": "stdout",
     "output_type": "stream",
     "text": [
      "[G마켓]비비고 썰은배추김치 1.8kg(12,450/무료)\n",
      "https://www.ppomppu.co.kr/zboard/view.php?id=ppomppu&page=1&divpage=75&no=442598\n"
     ]
    }
   ],
   "source": [
    "import telegram\n",
    "message = \"\"\n",
    "for i in range(len(titles)):\n",
    "    if \"김치\" in titles[i].text:\n",
    "        message = titles[i].text + \"\\n\" + urls[i].get_attribute(\"href\")\n",
    "        print(message)\n",
    "        token =\"5948070151:AAE06dw3I0imlSy056SFpijb8wKYtVh6fBE\"\n",
    "        id = \"1470340712\"\n",
    "        bot = telegram.Bot(token)\n",
    "        bot.sendMessage(chat_id=id,text=message)"
   ]
  },
  {
   "cell_type": "markdown",
   "metadata": {},
   "source": []
  }
 ],
 "metadata": {
  "kernelspec": {
   "display_name": "Python 3.9.13 ('base')",
   "language": "python",
   "name": "python3"
  },
  "language_info": {
   "codemirror_mode": {
    "name": "ipython",
    "version": 3
   },
   "file_extension": ".py",
   "mimetype": "text/x-python",
   "name": "python",
   "nbconvert_exporter": "python",
   "pygments_lexer": "ipython3",
   "version": "3.9.13"
  },
  "orig_nbformat": 4,
  "vscode": {
   "interpreter": {
    "hash": "a077222d77dfe082b8f1dd562ad70e458ac2ab76993a0b248ab0476e32e9e8dd"
   }
  }
 },
 "nbformat": 4,
 "nbformat_minor": 2
}
