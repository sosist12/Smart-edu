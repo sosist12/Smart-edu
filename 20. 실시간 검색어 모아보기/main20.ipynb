{
 "cells": [
  {
   "cell_type": "code",
   "execution_count": 12,
   "metadata": {},
   "outputs": [
    {
     "name": "stderr",
     "output_type": "stream",
     "text": [
      "C:\\Users\\user\\AppData\\Local\\Temp\\ipykernel_20924\\243742793.py:4: DeprecationWarning: executable_path has been deprecated, please pass in a Service object\n",
      "  driver = webdriver.Chrome(ChromeDriverManager().install())\n"
     ]
    }
   ],
   "source": [
    "from webdriver_manager.chrome import ChromeDriverManager\n",
    "from selenium import webdriver\n",
    "\n",
    "driver = webdriver.Chrome(ChromeDriverManager().install())\n",
    "\n",
    "URL = \"https://www.google.co.kr\"\n",
    "driver.get(url=URL)\n",
    "driver.implicitly_wait(time_to_wait=10)\n"
   ]
  },
  {
   "cell_type": "code",
   "execution_count": 13,
   "metadata": {},
   "outputs": [
    {
     "name": "stdout",
     "output_type": "stream",
     "text": [
      "투자 최우선 후보지\n",
      "이승기\n",
      "예산안 처리 실시\n",
      "권진영\n",
      "호날두\n",
      "송중기\n",
      "이태원 참사 송치\n",
      "프랑스\n",
      "폴란드\n",
      "후크엔터테인먼트\n"
     ]
    }
   ],
   "source": [
    "from selenium.webdriver.common.by import By\n",
    "URL = \"https://signal.bz/news\"\n",
    "driver.get(url=URL)\n",
    "driver.implicitly_wait(time_to_wait=10)\n",
    "\n",
    "naver_results = driver.find_elements(By.CSS_SELECTOR,\"#app > div > main > div > section > div > section > section:nth-child(2) > div:nth-child(2) > div > div > div > a > span.rank-text\")\n",
    "\n",
    "naver_list = []\n",
    "for naver_result in naver_results:\n",
    "    print(naver_result.text)\n",
    "    naver_list.append(naver_result.text)"
   ]
  },
  {
   "cell_type": "code",
   "execution_count": 14,
   "metadata": {},
   "outputs": [
    {
     "name": "stdout",
     "output_type": "stream",
     "text": [
      "투자 최우선 후보지\n",
      "예산안 처리 실시\n",
      "권진영\n",
      "이태원 참사 송치\n",
      "김기춘 보고조작 재상고\n",
      "수술 러시아 사망\n",
      "롯데 노진혁과 4년\n",
      "권상우 이민정과 키스신\n",
      "\n",
      "\n"
     ]
    }
   ],
   "source": [
    "URL = \"https://www.nate.com\"\n",
    "\n",
    "driver.get(url=URL)\n",
    "driver.implicitly_wait(time_to_wait=10)\n",
    "\n",
    "driver.find_element(By.CSS_SELECTOR, \"#olLiveIssueKeyword > li:nth-child(1) > a > span.txt_rank\").click()\n",
    "nate_results= driver.find_elements(By.CSS_SELECTOR,\"#search-option > form:nth-child(1) > fieldset > div.issue-kwd > span > a\")\n",
    "\n",
    "nate_list = []\n",
    "\n",
    "for nate_result in nate_results:\n",
    "    print(nate_result.text)\n",
    "    nate_list.append(nate_result.text)"
   ]
  },
  {
   "cell_type": "code",
   "execution_count": 15,
   "metadata": {},
   "outputs": [
    {
     "name": "stdout",
     "output_type": "stream",
     "text": [
      "이승기\n",
      "송중기\n",
      "후크엔터테인먼트\n",
      "슈룹\n",
      "월드컵 일정\n",
      "카타르\n",
      "김건모\n",
      "사우디\n",
      "이소라\n",
      "정국\n"
     ]
    }
   ],
   "source": [
    "import time\n",
    "\n",
    "URL=\"https://zum.com\"\n",
    "driver.get(url=URL)\n",
    "driver.implicitly_wait(time_to_wait=10)\n",
    "\n",
    "driver.find_element(By.CSS_SELECTOR,\"#search-input\").send_keys(\"아무거나 검색\")\n",
    "time.sleep(0.5)\n",
    "driver.find_element(By.CSS_SELECTOR, \"#app > div > header > div.search_bar > div > fieldset > div > button.search\").click()\n",
    "time.sleep(1)\n",
    "\n",
    "zoom_results = driver.find_elements(By.CSS_SELECTOR,\"#issue_wrap > ul > li > div > a:nth-child(1) > span.txt\")\n",
    "\n",
    "zoom_list=[]\n",
    "for zoom_result in zoom_results:\n",
    "    print(zoom_result.text)\n",
    "    zoom_list.append(zoom_result.text)"
   ]
  },
  {
   "cell_type": "code",
   "execution_count": 16,
   "metadata": {},
   "outputs": [
    {
     "name": "stdout",
     "output_type": "stream",
     "text": [
      "네이버 ['투자 최우선 후보지', '이승기', '예산안 처리 실시', '권진영', '호날두', '송중기', '이태원 참사 송치', '프랑스', '폴란드', '후크엔터테인먼트']\n",
      "네이트 ['투자 최우선 후보지', '예산안 처리 실시', '권진영', '이태원 참사 송치', '김기춘 보고조작 재상고', '수술 러시아 사망', '롯데 노진혁과 4년', '권상우 이민정과 키스신', '', '']\n",
      "줌 ['이승기', '송중기', '후크엔터테인먼트', '슈룹', '월드컵 일정', '카타르', '김건모', '사우디', '이소라', '정국']\n"
     ]
    }
   ],
   "source": [
    "print(\"네이버\",naver_list)\n",
    "print(\"네이트\",nate_list)\n",
    "print(\"줌\",zoom_list)\n"
   ]
  }
 ],
 "metadata": {
  "kernelspec": {
   "display_name": "Python 3.9.13 ('base')",
   "language": "python",
   "name": "python3"
  },
  "language_info": {
   "codemirror_mode": {
    "name": "ipython",
    "version": 3
   },
   "file_extension": ".py",
   "mimetype": "text/x-python",
   "name": "python",
   "nbconvert_exporter": "python",
   "pygments_lexer": "ipython3",
   "version": "3.9.13"
  },
  "orig_nbformat": 4,
  "vscode": {
   "interpreter": {
    "hash": "a077222d77dfe082b8f1dd562ad70e458ac2ab76993a0b248ab0476e32e9e8dd"
   }
  }
 },
 "nbformat": 4,
 "nbformat_minor": 2
}
